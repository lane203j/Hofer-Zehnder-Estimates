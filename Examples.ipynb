{
 "cells": [
  {
   "cell_type": "markdown",
   "metadata": {},
   "source": [
    "# Using the ``HZCapacityEstimator`` class"
   ]
  },
  {
   "cell_type": "markdown",
   "metadata": {},
   "source": [
    "First, we must import the class."
   ]
  },
  {
   "cell_type": "code",
   "execution_count": 1,
   "metadata": {},
   "outputs": [],
   "source": [
    "from HZCapacityEstimator import *"
   ]
  },
  {
   "cell_type": "markdown",
   "metadata": {},
   "source": [
    "In order for the gradient-descent problem to be convex, the function H must satisfy the following conditions:\n",
    "\n",
    "* H is C^2\n",
    "* H is strictly convex\n",
    "* H grows quadratically \n",
    "* H is positively homogeneous of degree 2 (i.e. H(tx) = t^2H(x) for all x and all t>0)."
   ]
  },
  {
   "cell_type": "markdown",
   "metadata": {},
   "source": [
    "## Example 1"
   ]
  },
  {
   "cell_type": "markdown",
   "metadata": {},
   "source": [
    "Capacity of the unit ball in R^2n."
   ]
  },
  {
   "cell_type": "code",
   "execution_count": 2,
   "metadata": {},
   "outputs": [],
   "source": [
    "# we pass the Hamiltonian and its gradient to HZCapacityEstimator\n",
    "# as lambda functions\n",
    "\n",
    "H  = lambda x: np.sum(x*x)\n",
    "dH = lambda x: 2.*x\n",
    "\n",
    "# this time we also include an explicit formula for the gradient of the Legendre transform.\n",
    "dG = lambda y: y/2.\n",
    "\n",
    "# create an instance of the class\n",
    "estimator1 = HZCapacityEstimator(n=2,m=500,H=H,dH=dH,dG=dG)"
   ]
  },
  {
   "cell_type": "code",
   "execution_count": 3,
   "metadata": {},
   "outputs": [
    {
     "name": "stdout",
     "output_type": "stream",
     "text": [
      "At k = 1 , F(x) = 1966.2304288345138 , f(x) = -8.596456879672587e-13\n",
      "At k = 2 , F(x) = 119.42116933960546 , f(x) = -3.4189318043331696e-12\n",
      "At k = 3 , F(x) = 1.8897545955644415 , f(x) = -3.8221648068770264e-12\n",
      "At k = 4 , F(x) = 1.6118450196503529 , f(x) = -3.917755009297252e-12\n",
      "At k = 5 , F(x) = 1.5846550846565441 , f(x) = -3.970268558362022e-12\n",
      "At k = 6 , F(x) = 1.5727034572373964 , f(x) = -3.980260565583649e-12\n",
      "At k = 7 , F(x) = 1.571234753939035 , f(x) = -3.980926699398424e-12\n",
      "At k = 8 , F(x) = 1.5709161492025225 , f(x) = -3.980260565583649e-12\n",
      "At k = 9 , F(x) = 1.5708412597497892 , f(x) = -3.981370788608274e-12\n",
      "At k = 10 , F(x) = 1.5708230342521108 , f(x) = -3.980593632491036e-12\n",
      "At k = 11 , F(x) = 1.5708185314287804 , f(x) = -3.980593632491036e-12\n",
      "At k = 12 , F(x) = 1.5708174116133584 , f(x) = -3.980371587886111e-12\n",
      "At k = 13 , F(x) = 1.5708171323196614 , f(x) = -3.980926699398424e-12\n",
      "At k = 14 , F(x) = 1.5708170625722426 , f(x) = -3.981148744003349e-12\n",
      "At k = 15 , F(x) = 1.5708170094645537 , f(x) = -3.981148744003349e-12\n",
      "At k = 16 , F(x) = 1.5708170008401343 , f(x) = -3.980038520978724e-12\n",
      "At k = 17 , F(x) = 1.5708169986845748 , f(x) = -3.980704654793499e-12\n",
      "Early stop at iteration  17\n",
      "The estimated Hofer-Zehnder capacity of the unit ball is  3.1416339973691496\n"
     ]
    },
    {
     "data": {
      "text/plain": [
       "3.1416339973691496"
      ]
     },
     "execution_count": 3,
     "metadata": {},
     "output_type": "execute_result"
    }
   ],
   "source": [
    "# the correct value is pi.\n",
    "\n",
    "estimator1.estimate()\n",
    "\n",
    "# try changing the value of n and rerunning the previous cell, \n",
    "# the estimate should still approximate pi."
   ]
  },
  {
   "cell_type": "code",
   "execution_count": 5,
   "metadata": {},
   "outputs": [
    {
     "data": {
      "text/plain": [
       "3.1454069144747927"
      ]
     },
     "execution_count": 5,
     "metadata": {},
     "output_type": "execute_result"
    }
   ],
   "source": [
    "# lets run the same estimation, demonstrating how the arguments work\n",
    "\n",
    "estimator1.estimate(iterations = 10, epsilon = 10.**(-5), VOCAL = False)"
   ]
  },
  {
   "cell_type": "markdown",
   "metadata": {},
   "source": [
    "## Example 2"
   ]
  },
  {
   "cell_type": "markdown",
   "metadata": {},
   "source": [
    "The dG argument is optional when initializing ``HZCapacityEstimator``. If we don't include the dG argument, then dG is approximated at run time with ``scipy.optimize.root``. This will slow down the algorithm and is somewhat unstable."
   ]
  },
  {
   "cell_type": "code",
   "execution_count": 4,
   "metadata": {},
   "outputs": [
    {
     "name": "stdout",
     "output_type": "stream",
     "text": [
      "Gradient of the Legendre transform of H will be estimated numerically.\n",
      "At k = 1 , F(x) = 1966.2304288345138 , f(x) = -8.596456879672587e-13\n",
      "At k = 2 , F(x) = 119.42116933960546 , f(x) = -3.4189318043331696e-12\n",
      "At k = 3 , F(x) = 1.8897545955644415 , f(x) = -3.8221648068770264e-12\n",
      "At k = 4 , F(x) = 1.6118450196503529 , f(x) = -3.917755009297252e-12\n",
      "At k = 5 , F(x) = 1.5846550846565441 , f(x) = -3.970268558362022e-12\n",
      "At k = 6 , F(x) = 1.5727034572373964 , f(x) = -3.980260565583649e-12\n",
      "At k = 7 , F(x) = 1.571234753939035 , f(x) = -3.980926699398424e-12\n",
      "At k = 8 , F(x) = 1.5709161492025225 , f(x) = -3.980260565583649e-12\n",
      "At k = 9 , F(x) = 1.5708412597497892 , f(x) = -3.981370788608274e-12\n",
      "At k = 10 , F(x) = 1.5708230342521108 , f(x) = -3.980593632491036e-12\n",
      "At k = 11 , F(x) = 1.5708185314287804 , f(x) = -3.980593632491036e-12\n",
      "At k = 12 , F(x) = 1.5708174116133584 , f(x) = -3.980371587886111e-12\n",
      "At k = 13 , F(x) = 1.5708171323196614 , f(x) = -3.980926699398424e-12\n",
      "At k = 14 , F(x) = 1.5708170625722426 , f(x) = -3.981148744003349e-12\n",
      "At k = 15 , F(x) = 1.5708170094645537 , f(x) = -3.981148744003349e-12\n",
      "At k = 16 , F(x) = 1.5708170008401343 , f(x) = -3.980038520978724e-12\n",
      "At k = 17 , F(x) = 1.5708169986845748 , f(x) = -3.980704654793499e-12\n",
      "Early stop at iteration  17\n",
      "The estimated Hofer-Zehnder capacity of the unit ball is  3.1416339973691496\n"
     ]
    },
    {
     "data": {
      "text/plain": [
       "3.1416339973691496"
      ]
     },
     "execution_count": 4,
     "metadata": {},
     "output_type": "execute_result"
    }
   ],
   "source": [
    "# H and dH are the same as before, but we do not pass dG\n",
    "\n",
    "estimator2 = HZCapacityEstimator(n=2,m=500,H=H,dH=dH)\n",
    "estimator2.estimate()"
   ]
  },
  {
   "cell_type": "markdown",
   "metadata": {},
   "source": [
    "## Example 3"
   ]
  },
  {
   "cell_type": "markdown",
   "metadata": {},
   "source": [
    "Capacity of ellipsoids."
   ]
  },
  {
   "cell_type": "code",
   "execution_count": 5,
   "metadata": {},
   "outputs": [
    {
     "ename": "ValueError",
     "evalue": "shapes (2,0) and (4,) not aligned: 0 (dim 1) != 4 (dim 0)",
     "output_type": "error",
     "traceback": [
      "\u001b[0;31m---------------------------------------------------------------------------\u001b[0m",
      "\u001b[0;31mValueError\u001b[0m                                Traceback (most recent call last)",
      "\u001b[0;32m<ipython-input-5-5671f851976c>\u001b[0m in \u001b[0;36m<module>\u001b[0;34m()\u001b[0m\n\u001b[1;32m     12\u001b[0m \u001b[0;31m# create an instance of the class\u001b[0m\u001b[0;34m\u001b[0m\u001b[0;34m\u001b[0m\u001b[0m\n\u001b[1;32m     13\u001b[0m \u001b[0mestimator2\u001b[0m \u001b[0;34m=\u001b[0m \u001b[0mHZCapacityEstimator\u001b[0m\u001b[0;34m(\u001b[0m\u001b[0mn\u001b[0m\u001b[0;34m=\u001b[0m\u001b[0;36m2\u001b[0m\u001b[0;34m,\u001b[0m\u001b[0mm\u001b[0m\u001b[0;34m=\u001b[0m\u001b[0;36m500\u001b[0m\u001b[0;34m,\u001b[0m\u001b[0mH\u001b[0m\u001b[0;34m=\u001b[0m\u001b[0mH\u001b[0m\u001b[0;34m,\u001b[0m\u001b[0mdH\u001b[0m\u001b[0;34m=\u001b[0m\u001b[0mdH\u001b[0m\u001b[0;34m,\u001b[0m\u001b[0mdG\u001b[0m\u001b[0;34m=\u001b[0m\u001b[0mdG\u001b[0m\u001b[0;34m)\u001b[0m\u001b[0;34m\u001b[0m\u001b[0m\n\u001b[0;32m---> 14\u001b[0;31m \u001b[0mestimator2\u001b[0m\u001b[0;34m.\u001b[0m\u001b[0mestimate\u001b[0m\u001b[0;34m(\u001b[0m\u001b[0;34m)\u001b[0m\u001b[0;34m\u001b[0m\u001b[0m\n\u001b[0m",
      "\u001b[0;32m~/Dropbox/x/data science/capacities/HZCapacityEstimator.py\u001b[0m in \u001b[0;36mestimate\u001b[0;34m(self, iterations, epsilon, VOCAL)\u001b[0m\n\u001b[1;32m    139\u001b[0m             \u001b[0mk\u001b[0m \u001b[0;34m=\u001b[0m \u001b[0mk\u001b[0m \u001b[0;34m+\u001b[0m \u001b[0;36m1\u001b[0m\u001b[0;34m\u001b[0m\u001b[0m\n\u001b[1;32m    140\u001b[0m             \u001b[0;32mif\u001b[0m \u001b[0mVOCAL\u001b[0m\u001b[0;34m:\u001b[0m\u001b[0;34m\u001b[0m\u001b[0m\n\u001b[0;32m--> 141\u001b[0;31m                 \u001b[0mprint\u001b[0m\u001b[0;34m(\u001b[0m\u001b[0;34m\"At k =\"\u001b[0m\u001b[0;34m,\u001b[0m \u001b[0mk\u001b[0m\u001b[0;34m,\u001b[0m \u001b[0;34m\", F(x) =\"\u001b[0m\u001b[0;34m,\u001b[0m \u001b[0mself\u001b[0m\u001b[0;34m.\u001b[0m\u001b[0mF\u001b[0m\u001b[0;34m(\u001b[0m\u001b[0mx\u001b[0m\u001b[0;34m)\u001b[0m\u001b[0;34m,\u001b[0m\u001b[0;34m\", f(x) =\"\u001b[0m\u001b[0;34m,\u001b[0m \u001b[0mself\u001b[0m\u001b[0;34m.\u001b[0m\u001b[0mf\u001b[0m\u001b[0;34m(\u001b[0m\u001b[0mx\u001b[0m\u001b[0;34m)\u001b[0m\u001b[0;34m)\u001b[0m\u001b[0;34m\u001b[0m\u001b[0m\n\u001b[0m\u001b[1;32m    142\u001b[0m \u001b[0;34m\u001b[0m\u001b[0m\n\u001b[1;32m    143\u001b[0m             \u001b[0;31m# Part 1\u001b[0m\u001b[0;34m\u001b[0m\u001b[0;34m\u001b[0m\u001b[0m\n",
      "\u001b[0;32m~/Dropbox/x/data science/capacities/HZCapacityEstimator.py\u001b[0m in \u001b[0;36mF\u001b[0;34m(self, x)\u001b[0m\n\u001b[1;32m     69\u001b[0m         \u001b[0mS\u001b[0m \u001b[0;34m=\u001b[0m \u001b[0;36m0.\u001b[0m\u001b[0;34m\u001b[0m\u001b[0m\n\u001b[1;32m     70\u001b[0m         \u001b[0;32mfor\u001b[0m \u001b[0mi\u001b[0m \u001b[0;32min\u001b[0m \u001b[0mrange\u001b[0m\u001b[0;34m(\u001b[0m\u001b[0;36m0\u001b[0m\u001b[0;34m,\u001b[0m\u001b[0mself\u001b[0m\u001b[0;34m.\u001b[0m\u001b[0mm\u001b[0m\u001b[0;34m)\u001b[0m\u001b[0;34m:\u001b[0m\u001b[0;34m\u001b[0m\u001b[0m\n\u001b[0;32m---> 71\u001b[0;31m             \u001b[0mS\u001b[0m \u001b[0;34m+=\u001b[0m \u001b[0mself\u001b[0m\u001b[0;34m.\u001b[0m\u001b[0mG\u001b[0m\u001b[0;34m(\u001b[0m\u001b[0mA\u001b[0m\u001b[0;34m[\u001b[0m\u001b[0;34m:\u001b[0m\u001b[0;34m,\u001b[0m\u001b[0mi\u001b[0m\u001b[0;34m]\u001b[0m\u001b[0;34m)\u001b[0m\u001b[0;34m\u001b[0m\u001b[0m\n\u001b[0m\u001b[1;32m     72\u001b[0m \u001b[0;34m\u001b[0m\u001b[0m\n\u001b[1;32m     73\u001b[0m         \u001b[0;32mreturn\u001b[0m \u001b[0mS\u001b[0m\u001b[0;34m/\u001b[0m\u001b[0mself\u001b[0m\u001b[0;34m.\u001b[0m\u001b[0mm\u001b[0m\u001b[0;34m\u001b[0m\u001b[0m\n",
      "\u001b[0;32m~/Dropbox/x/data science/capacities/HZCapacityEstimator.py\u001b[0m in \u001b[0;36mG\u001b[0;34m(self, y)\u001b[0m\n\u001b[1;32m     52\u001b[0m         \u001b[0;31m# G(y) is the Legendre transform of H(x)\u001b[0m\u001b[0;34m\u001b[0m\u001b[0;34m\u001b[0m\u001b[0m\n\u001b[1;32m     53\u001b[0m         \u001b[0mx\u001b[0m \u001b[0;34m=\u001b[0m \u001b[0mself\u001b[0m\u001b[0;34m.\u001b[0m\u001b[0mdG\u001b[0m\u001b[0;34m(\u001b[0m\u001b[0my\u001b[0m\u001b[0;34m)\u001b[0m\u001b[0;34m\u001b[0m\u001b[0m\n\u001b[0;32m---> 54\u001b[0;31m         \u001b[0;32mreturn\u001b[0m \u001b[0mnp\u001b[0m\u001b[0;34m.\u001b[0m\u001b[0msum\u001b[0m\u001b[0;34m(\u001b[0m\u001b[0my\u001b[0m\u001b[0;34m*\u001b[0m\u001b[0mx\u001b[0m\u001b[0;34m)\u001b[0m \u001b[0;34m-\u001b[0m \u001b[0mself\u001b[0m\u001b[0;34m.\u001b[0m\u001b[0mH\u001b[0m\u001b[0;34m(\u001b[0m\u001b[0mx\u001b[0m\u001b[0;34m)\u001b[0m\u001b[0;34m\u001b[0m\u001b[0m\n\u001b[0m\u001b[1;32m     55\u001b[0m \u001b[0;34m\u001b[0m\u001b[0m\n\u001b[1;32m     56\u001b[0m     \u001b[0;32mdef\u001b[0m \u001b[0mproj\u001b[0m\u001b[0;34m(\u001b[0m\u001b[0mself\u001b[0m\u001b[0;34m,\u001b[0m\u001b[0mx\u001b[0m\u001b[0;34m)\u001b[0m\u001b[0;34m:\u001b[0m\u001b[0;34m\u001b[0m\u001b[0m\n",
      "\u001b[0;32m<ipython-input-5-5671f851976c>\u001b[0m in \u001b[0;36m<lambda>\u001b[0;34m(x)\u001b[0m\n\u001b[1;32m      4\u001b[0m \u001b[0mS\u001b[0m \u001b[0;34m=\u001b[0m \u001b[0mnp\u001b[0m\u001b[0;34m.\u001b[0m\u001b[0marray\u001b[0m\u001b[0;34m(\u001b[0m\u001b[0;34m[\u001b[0m\u001b[0;34m[\u001b[0m\u001b[0;34m]\u001b[0m\u001b[0;34m,\u001b[0m\u001b[0;34m[\u001b[0m\u001b[0;34m]\u001b[0m\u001b[0;34m]\u001b[0m\u001b[0;34m)\u001b[0m\u001b[0;34m\u001b[0m\u001b[0m\n\u001b[1;32m      5\u001b[0m \u001b[0;34m\u001b[0m\u001b[0m\n\u001b[0;32m----> 6\u001b[0;31m \u001b[0mH\u001b[0m  \u001b[0;34m=\u001b[0m \u001b[0;32mlambda\u001b[0m \u001b[0mx\u001b[0m\u001b[0;34m:\u001b[0m \u001b[0mnp\u001b[0m\u001b[0;34m.\u001b[0m\u001b[0msum\u001b[0m\u001b[0;34m(\u001b[0m\u001b[0mx\u001b[0m\u001b[0;34m*\u001b[0m\u001b[0mnp\u001b[0m\u001b[0;34m.\u001b[0m\u001b[0mdot\u001b[0m\u001b[0;34m(\u001b[0m\u001b[0mS\u001b[0m\u001b[0;34m,\u001b[0m\u001b[0mx\u001b[0m\u001b[0;34m)\u001b[0m\u001b[0;34m)\u001b[0m\u001b[0;34m\u001b[0m\u001b[0m\n\u001b[0m\u001b[1;32m      7\u001b[0m \u001b[0mdH\u001b[0m \u001b[0;34m=\u001b[0m \u001b[0;32mlambda\u001b[0m \u001b[0mx\u001b[0m\u001b[0;34m:\u001b[0m \u001b[0;36m2\u001b[0m\u001b[0;34m*\u001b[0m\u001b[0mnp\u001b[0m\u001b[0;34m.\u001b[0m\u001b[0mdot\u001b[0m\u001b[0;34m(\u001b[0m\u001b[0mS\u001b[0m\u001b[0;34m,\u001b[0m\u001b[0mx\u001b[0m\u001b[0;34m)\u001b[0m\u001b[0;34m\u001b[0m\u001b[0m\n\u001b[1;32m      8\u001b[0m \u001b[0;34m\u001b[0m\u001b[0m\n",
      "\u001b[0;31mValueError\u001b[0m: shapes (2,0) and (4,) not aligned: 0 (dim 1) != 4 (dim 0)"
     ]
    }
   ],
   "source": [
    "# we pass the Hamiltonian and its gradient to HZCapacityEstimator\n",
    "# as lambda functions\n",
    "\n",
    "S = np.array([[],[]])\n",
    "\n",
    "H  = lambda x: np.sum(x*np.dot(S,x))\n",
    "dH = lambda x: 2*np.dot(S,x)\n",
    "\n",
    "# this time we also include an explicit formula for the gradient of the Legendre transform.\n",
    "dG = lambda y: \n",
    "\n",
    "# create an instance of the class\n",
    "estimator3 = HZCapacityEstimator(n=2,m=500,H=H,dH=dH,dG=dG)\n",
    "estimator3.estimate()"
   ]
  },
  {
   "cell_type": "markdown",
   "metadata": {},
   "source": [
    "## Example 4"
   ]
  },
  {
   "cell_type": "markdown",
   "metadata": {},
   "source": [
    "Example from the thesis."
   ]
  },
  {
   "cell_type": "code",
   "execution_count": null,
   "metadata": {},
   "outputs": [],
   "source": [
    "# we pass the Hamiltonian and its gradient to HZCapacityEstimator\n",
    "# as lambda functions\n",
    "\n",
    "H  = lambda x: \n",
    "dH = lambda x: \n",
    "\n",
    "# this time we also include an explicit formula for the gradient of the Legendre transform.\n",
    "dG = lambda y: \n",
    "\n",
    "# create an instance of the class\n",
    "estimator4 = HZCapacityEstimator(n=2,m=500,H=H,dH=dH,dG=dG)\n",
    "estimator4.estimate()"
   ]
  }
 ],
 "metadata": {
  "kernelspec": {
   "display_name": "Python 3",
   "language": "python",
   "name": "python3"
  },
  "language_info": {
   "codemirror_mode": {
    "name": "ipython",
    "version": 3
   },
   "file_extension": ".py",
   "mimetype": "text/x-python",
   "name": "python",
   "nbconvert_exporter": "python",
   "pygments_lexer": "ipython3",
   "version": "3.6.4"
  }
 },
 "nbformat": 4,
 "nbformat_minor": 2
}
