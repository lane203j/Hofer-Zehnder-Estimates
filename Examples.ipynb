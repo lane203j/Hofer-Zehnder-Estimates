{
 "cells": [
  {
   "cell_type": "markdown",
   "metadata": {},
   "source": [
    "# Using the ``HZCapacityEstimator`` class"
   ]
  },
  {
   "cell_type": "markdown",
   "metadata": {},
   "source": [
    "In this notebook we give an overview of how to use ``HZCapacityEstimator``. I hope this notebook is accessible to mathematicians not familiar with python.\n",
    "\n",
    "First, we must import the class and ``numpy`` for matrix operations (``numpy`` is imported in ``HZCapacityEstimator``)."
   ]
  },
  {
   "cell_type": "code",
   "execution_count": 1,
   "metadata": {},
   "outputs": [],
   "source": [
    "from HZCapacityEstimator import *"
   ]
  },
  {
   "cell_type": "markdown",
   "metadata": {},
   "source": [
    "In order for the optimization problem to be convex, the function H must satisfy the following conditions:\n",
    "\n",
    "* H is C^2\n",
    "* H is strictly convex (its Hessian is positive definite everywhere)\n",
    "* H grows quadratically \n",
    "* H is positively homogeneous of degree 2 (i.e. H(tx) = t^2H(x) for all x and all t>0).\n",
    "\n",
    "The class does not check these assumptions for you."
   ]
  },
  {
   "cell_type": "markdown",
   "metadata": {},
   "source": [
    "## Example 1"
   ]
  },
  {
   "cell_type": "markdown",
   "metadata": {},
   "source": [
    "The unit ball in R^2n is the sub-level set H<1 of the Hamiltonian \n",
    "\n",
    "H(x) = ||x||^2. \n",
    "\n",
    "The [Legendre-Fenchel transform](https://en.wikipedia.org/wiki/Convex_conjugate) of this H is \n",
    "\n",
    "G(y) = ||y||^2/4.\n",
    "\n",
    "The Hofer-Zehnder capacity of the unit ball is pi, so we expect the program to return an approximation of pi."
   ]
  },
  {
   "cell_type": "code",
   "execution_count": 2,
   "metadata": {},
   "outputs": [],
   "source": [
    "# we pass the Hamiltonian and its gradient to HZCapacityEstimator\n",
    "# as lambda functions.\n",
    "# Lambda functions are just a quick way to define functions that you can copy into your own code.\n",
    "\n",
    "H  = lambda x: np.sum(x*x)   # x*x is elementwise product and np.sum(x) sums the entries.\n",
    "dH = lambda x: 2.*x\n",
    "\n",
    "# this time we also include an explicit formula for the gradient of the Legendre transform.\n",
    "dG = lambda y: y/2.\n",
    "\n",
    "# create an instance of the class\n",
    "estimator1 = HZCapacityEstimator(n=2,m=500,H=H,dH=dH,dG=dG)"
   ]
  },
  {
   "cell_type": "code",
   "execution_count": 3,
   "metadata": {},
   "outputs": [
    {
     "name": "stdout",
     "output_type": "stream",
     "text": [
      "At k = 1 , F(x) = 1966.2304288345138 , f(x) = -8.596456879672587e-13\n",
      "At k = 2 , F(x) = 119.42116933960546 , f(x) = -3.4189318043331696e-12\n",
      "At k = 3 , F(x) = 1.8897545955644415 , f(x) = -3.8221648068770264e-12\n",
      "At k = 4 , F(x) = 1.6118450196503529 , f(x) = -3.917755009297252e-12\n",
      "At k = 5 , F(x) = 1.5846550846565441 , f(x) = -3.970268558362022e-12\n",
      "At k = 6 , F(x) = 1.5727034572373964 , f(x) = -3.980260565583649e-12\n",
      "At k = 7 , F(x) = 1.571234753939035 , f(x) = -3.980926699398424e-12\n",
      "At k = 8 , F(x) = 1.5709161492025225 , f(x) = -3.980260565583649e-12\n",
      "At k = 9 , F(x) = 1.5708412597497892 , f(x) = -3.981370788608274e-12\n",
      "At k = 10 , F(x) = 1.5708230342521108 , f(x) = -3.980593632491036e-12\n",
      "At k = 11 , F(x) = 1.5708185314287804 , f(x) = -3.980593632491036e-12\n",
      "At k = 12 , F(x) = 1.5708174116133584 , f(x) = -3.980371587886111e-12\n",
      "At k = 13 , F(x) = 1.5708171323196614 , f(x) = -3.980926699398424e-12\n",
      "At k = 14 , F(x) = 1.5708170625722426 , f(x) = -3.981148744003349e-12\n",
      "At k = 15 , F(x) = 1.5708170094645537 , f(x) = -3.981148744003349e-12\n",
      "At k = 16 , F(x) = 1.5708170008401343 , f(x) = -3.980038520978724e-12\n",
      "At k = 17 , F(x) = 1.5708169986845748 , f(x) = -3.980704654793499e-12\n",
      "Early stop at iteration  17\n",
      "The estimated Hofer-Zehnder capacity of the unit ball is  3.1416339973691496\n"
     ]
    },
    {
     "data": {
      "text/plain": [
       "3.1416339973691496"
      ]
     },
     "execution_count": 3,
     "metadata": {},
     "output_type": "execute_result"
    }
   ],
   "source": [
    "estimator1.estimate()\n",
    "\n",
    "# try changing the value of n and rerunning the previous cell, \n",
    "# the estimate should still approximate pi.\n",
    "# the output f(x) is the value of the nonlinear constraint, which should be approximately 0."
   ]
  },
  {
   "cell_type": "code",
   "execution_count": 5,
   "metadata": {},
   "outputs": [
    {
     "data": {
      "text/plain": [
       "3.1454069144747927"
      ]
     },
     "execution_count": 5,
     "metadata": {},
     "output_type": "execute_result"
    }
   ],
   "source": [
    "# lets run the same estimation, demonstrating how the optional arguments work\n",
    "\n",
    "estimator1.estimate(iterations = 10, epsilon = 10.**(-5), VOCAL = False)"
   ]
  },
  {
   "cell_type": "markdown",
   "metadata": {},
   "source": [
    "## Example 2"
   ]
  },
  {
   "cell_type": "markdown",
   "metadata": {},
   "source": [
    "The dG argument is optional when initializing ``HZCapacityEstimator``. If we don't include the dG argument, then dG is approximated at run time with ``scipy.optimize.root``. This will slow down the algorithm and is somewhat unstable."
   ]
  },
  {
   "cell_type": "code",
   "execution_count": 4,
   "metadata": {},
   "outputs": [
    {
     "name": "stdout",
     "output_type": "stream",
     "text": [
      "Gradient of the Legendre transform of H will be estimated numerically.\n",
      "At k = 1 , F(x) = 1966.2304288345138 , f(x) = -8.596456879672587e-13\n",
      "At k = 2 , F(x) = 119.42116933960546 , f(x) = -3.4189318043331696e-12\n",
      "At k = 3 , F(x) = 1.8897545955644415 , f(x) = -3.8221648068770264e-12\n",
      "At k = 4 , F(x) = 1.6118450196503529 , f(x) = -3.917755009297252e-12\n",
      "At k = 5 , F(x) = 1.5846550846565441 , f(x) = -3.970268558362022e-12\n",
      "At k = 6 , F(x) = 1.5727034572373964 , f(x) = -3.980260565583649e-12\n",
      "At k = 7 , F(x) = 1.571234753939035 , f(x) = -3.980926699398424e-12\n",
      "At k = 8 , F(x) = 1.5709161492025225 , f(x) = -3.980260565583649e-12\n",
      "At k = 9 , F(x) = 1.5708412597497892 , f(x) = -3.981370788608274e-12\n",
      "At k = 10 , F(x) = 1.5708230342521108 , f(x) = -3.980593632491036e-12\n",
      "At k = 11 , F(x) = 1.5708185314287804 , f(x) = -3.980593632491036e-12\n",
      "At k = 12 , F(x) = 1.5708174116133584 , f(x) = -3.980371587886111e-12\n",
      "At k = 13 , F(x) = 1.5708171323196614 , f(x) = -3.980926699398424e-12\n",
      "At k = 14 , F(x) = 1.5708170625722426 , f(x) = -3.981148744003349e-12\n",
      "At k = 15 , F(x) = 1.5708170094645537 , f(x) = -3.981148744003349e-12\n",
      "At k = 16 , F(x) = 1.5708170008401343 , f(x) = -3.980038520978724e-12\n",
      "At k = 17 , F(x) = 1.5708169986845748 , f(x) = -3.980704654793499e-12\n",
      "Early stop at iteration  17\n",
      "The estimated Hofer-Zehnder capacity of the unit ball is  3.1416339973691496\n"
     ]
    },
    {
     "data": {
      "text/plain": [
       "3.1416339973691496"
      ]
     },
     "execution_count": 4,
     "metadata": {},
     "output_type": "execute_result"
    }
   ],
   "source": [
    "# H and dH are the same as before, but we do not pass dG\n",
    "\n",
    "estimator2 = HZCapacityEstimator(n=2,m=500,H=H,dH=dH)\n",
    "estimator2.estimate()"
   ]
  },
  {
   "cell_type": "markdown",
   "metadata": {},
   "source": [
    "## Example 3"
   ]
  },
  {
   "cell_type": "markdown",
   "metadata": {},
   "source": [
    "We have chosen the symplectic and complex structures on R^2n so that x\\_0,...,x\\_n are positions and x\\_{n+1},...,x\\_{2n} are conjugate momenta. Complex coordinates are given by z\\_j =  x\\_j + i x\\_{j+n}.  The complex structure J used by the algorithm is:"
   ]
  },
  {
   "cell_type": "code",
   "execution_count": 8,
   "metadata": {},
   "outputs": [
    {
     "data": {
      "text/plain": [
       "array([[ 0.,  0.,  1.,  0.],\n",
       "       [ 0.,  0.,  0.,  1.],\n",
       "       [-1., -0.,  0.,  0.],\n",
       "       [-0., -1.,  0.,  0.]])"
      ]
     },
     "execution_count": 8,
     "metadata": {},
     "output_type": "execute_result"
    }
   ],
   "source": [
    "estimator1.J"
   ]
  },
  {
   "cell_type": "markdown",
   "metadata": {},
   "source": [
    "An ellipsoid with principal axis lengths a\\_1, \\ldots , a\\_n is the sublevel set H<1 for \n",
    "\n",
    "H = |z\\_1|^2/a\\_1^2 + ...|z\\_n|^2/a\\_n^2.\n",
    "\n",
    "The Hofer-Zehnder capacity of an ellipsoid is \n",
    "\n",
    "min\\_i { pi a\\_i^2 }."
   ]
  },
  {
   "cell_type": "code",
   "execution_count": 9,
   "metadata": {},
   "outputs": [
    {
     "name": "stdout",
     "output_type": "stream",
     "text": [
      "At k = 1 , F(x) = 4930.848702140892 , f(x) = -8.596456879672587e-13\n",
      "At k = 2 , F(x) = 2173.8429150222205 , f(x) = -3.4341418597705342e-12\n",
      "At k = 3 , F(x) = 472.058771394134 , f(x) = -1.3731571435471324e-11\n",
      "At k = 4 , F(x) = 272.5433971343437 , f(x) = -2.4150792476973493e-11\n",
      "At k = 5 , F(x) = 201.99537257641123 , f(x) = -5.406330938484416e-11\n",
      "At k = 6 , F(x) = 123.52391192701499 , f(x) = -1.0068668121476776e-10\n",
      "At k = 7 , F(x) = 67.7271262062345 , f(x) = -1.624282930379195e-10\n",
      "At k = 8 , F(x) = 37.47728027607914 , f(x) = -2.6580049272695305e-10\n",
      "At k = 9 , F(x) = 21.060334600770734 , f(x) = -4.079540039114704e-10\n",
      "At k = 10 , F(x) = 11.774346000959014 , f(x) = -6.257434570500209e-10\n",
      "At k = 11 , F(x) = 6.992061066863154 , f(x) = -8.58054294283761e-10\n",
      "At k = 12 , F(x) = 4.259346490843022 , f(x) = -1.1423617607420056e-09\n",
      "At k = 13 , F(x) = 2.9452523111903317 , f(x) = -1.360755619295162e-09\n",
      "At k = 14 , F(x) = 2.2250497808750107 , f(x) = -1.5316838908319141e-09\n",
      "At k = 15 , F(x) = 1.8836423579676127 , f(x) = -1.6247765355359434e-09\n",
      "At k = 16 , F(x) = 1.7171383011944545 , f(x) = -1.6737337071859315e-09\n",
      "At k = 17 , F(x) = 1.639720651559978 , f(x) = -1.6968221272506412e-09\n",
      "At k = 18 , F(x) = 1.6035765036170095 , f(x) = -1.7076233760349169e-09\n",
      "At k = 19 , F(x) = 1.5866910357786397 , f(x) = -1.7126174922665882e-09\n",
      "At k = 20 , F(x) = 1.5787018575615495 , f(x) = -1.7149441866592952e-09\n",
      "At k = 21 , F(x) = 1.5748554652325581 , f(x) = -1.7160386445169706e-09\n",
      "At k = 22 , F(x) = 1.5729589012514924 , f(x) = -1.7165618926284765e-09\n",
      "At k = 23 , F(x) = 1.571995928674292 , f(x) = -1.7168165777903255e-09\n",
      "At k = 24 , F(x) = 1.5714900599525874 , f(x) = -1.7169448085496697e-09\n",
      "At k = 25 , F(x) = 1.5712143570915977 , f(x) = -1.7170113109088447e-09\n",
      "At k = 26 , F(x) = 1.5710584337990472 , f(x) = -1.7170472821348426e-09\n",
      "At k = 27 , F(x) = 1.5709671542955161 , f(x) = -1.7170675992161932e-09\n",
      "At k = 28 , F(x) = 1.5709120883208418 , f(x) = -1.7170789234910444e-09\n",
      "At k = 29 , F(x) = 1.5708780406805707 , f(x) = -1.7170855848291922e-09\n",
      "At k = 30 , F(x) = 1.5708565794850144 , f(x) = -1.7170895816320808e-09\n",
      "At k = 31 , F(x) = 1.5708428532381755 , f(x) = -1.7170924682119448e-09\n",
      "At k = 32 , F(x) = 1.570833978581426 , f(x) = -1.7170933563903645e-09\n",
      "At k = 33 , F(x) = 1.5708281947343472 , f(x) = -1.7170954658141113e-09\n",
      "At k = 34 , F(x) = 1.5708244029820988 , f(x) = -1.717096131947926e-09\n",
      "At k = 35 , F(x) = 1.5708219062823374 , f(x) = -1.7170962429702286e-09\n",
      "At k = 36 , F(x) = 1.5708202568814176 , f(x) = -1.7170969091040433e-09\n",
      "At k = 37 , F(x) = 1.5708191644814486 , f(x) = -1.7170956878587162e-09\n",
      "At k = 38 , F(x) = 1.5708184395664373 , f(x) = -1.717096353992531e-09\n",
      "At k = 39 , F(x) = 1.5708179577721617 , f(x) = -1.7170962429702286e-09\n",
      "At k = 40 , F(x) = 1.57081763716739 , f(x) = -1.7170974642155556e-09\n",
      "At k = 41 , F(x) = 1.5708174236126784 , f(x) = -1.7170964650148335e-09\n",
      "At k = 42 , F(x) = 1.5708172812489005 , f(x) = -1.7170967980817409e-09\n",
      "At k = 43 , F(x) = 1.57081718628065 , f(x) = -1.7170966870594384e-09\n",
      "At k = 44 , F(x) = 1.5708171228942382 , f(x) = -1.7170962429702286e-09\n",
      "At k = 45 , F(x) = 1.570817080567725 , f(x) = -1.7170966870594384e-09\n",
      "At k = 46 , F(x) = 1.5708170522932343 , f(x) = -1.7170959099033212e-09\n",
      "At k = 47 , F(x) = 1.5708170333995652 , f(x) = -1.7170970201263458e-09\n",
      "At k = 48 , F(x) = 1.5708170207709768 , f(x) = -1.7170966870594384e-09\n",
      "At k = 49 , F(x) = 1.5708170123280696 , f(x) = -1.7170966870594384e-09\n",
      "At k = 50 , F(x) = 1.570817006682439 , f(x) = -1.7170971311486483e-09\n",
      "At k = 51 , F(x) = 1.570817002906684 , f(x) = -1.7170974642155556e-09\n",
      "At k = 52 , F(x) = 1.5708170003811466 , f(x) = -1.7170966870594384e-09\n",
      "At k = 53 , F(x) = 1.5708169986916556 , f(x) = -1.717096576037136e-09\n",
      "At k = 54 , F(x) = 1.570816997561339 , f(x) = -1.717096576037136e-09\n",
      "At k = 55 , F(x) = 1.570816996805062 , f(x) = -1.7170959099033212e-09\n",
      "At k = 56 , F(x) = 1.5708169962990137 , f(x) = -1.7170954658141113e-09\n",
      "At k = 57 , F(x) = 1.5708169959603775 , f(x) = -1.7170969091040433e-09\n",
      "At k = 58 , F(x) = 1.5708169957337612 , f(x) = -1.7170969091040433e-09\n",
      "Early stop at iteration  58\n",
      "The estimated Hofer-Zehnder capacity of the unit ball is  3.1416339914675224\n"
     ]
    },
    {
     "data": {
      "text/plain": [
       "3.1416339914675224"
      ]
     },
     "execution_count": 9,
     "metadata": {},
     "output_type": "execute_result"
    }
   ],
   "source": [
    "# define an ellipsoid in R^4 with principal axis lengths 1,2.\n",
    "\n",
    "H  = lambda x: (x[0]**2+x[2]**2) + (x[1]**2+x[3]**2)/4\n",
    "dH = lambda x: np.array([2*x[0], x[1]/2, 2*x[2], x[3]/2])\n",
    "\n",
    "dG = lambda y: np.array([y[0]/2, 2*y[1], y[2]/2, 2*y[3]])\n",
    "\n",
    "estimator3 = HZCapacityEstimator(n=2,m=500,H=H,dH=dH,dG=dG)\n",
    "estimator3.estimate()"
   ]
  }
 ],
 "metadata": {
  "kernelspec": {
   "display_name": "Python 3",
   "language": "python",
   "name": "python3"
  },
  "language_info": {
   "codemirror_mode": {
    "name": "ipython",
    "version": 3
   },
   "file_extension": ".py",
   "mimetype": "text/x-python",
   "name": "python",
   "nbconvert_exporter": "python",
   "pygments_lexer": "ipython3",
   "version": "3.6.5"
  }
 },
 "nbformat": 4,
 "nbformat_minor": 2
}
