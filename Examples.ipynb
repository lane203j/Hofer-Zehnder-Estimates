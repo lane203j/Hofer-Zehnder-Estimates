{
 "cells": [
  {
   "cell_type": "code",
   "execution_count": 1,
   "metadata": {},
   "outputs": [],
   "source": [
    "from HZCapacityEstimator import *"
   ]
  },
  {
   "cell_type": "code",
   "execution_count": 6,
   "metadata": {},
   "outputs": [],
   "source": [
    "# estimate Hofer-Zehnder capacity of unit ball in R^8\n",
    "\n",
    "estimator = HZCapacityEstimator(n=4,m=500)"
   ]
  },
  {
   "cell_type": "code",
   "execution_count": 7,
   "metadata": {},
   "outputs": [
    {
     "name": "stdout",
     "output_type": "stream",
     "text": [
      "At k = 1 , F(x) = 960.0122199750299 , f(x) = -2.94320123828129e-13\n",
      "At k = 2 , F(x) = 54.82182449349057 , f(x) = -1.16995302334999e-12\n",
      "At k = 3 , F(x) = 1.8451944403986036 , f(x) = -1.1654011089490268e-12\n",
      "At k = 4 , F(x) = 1.663867318616798 , f(x) = -1.2400080962038373e-12\n",
      "At k = 5 , F(x) = 1.5856257880276692 , f(x) = -1.2628786905111156e-12\n",
      "At k = 6 , F(x) = 1.5741040828307857 , f(x) = -1.2609913113692528e-12\n",
      "At k = 7 , F(x) = 1.5716129035399138 , f(x) = -1.2598810883446276e-12\n",
      "At k = 8 , F(x) = 1.5710242968993324 , f(x) = -1.259325976832315e-12\n",
      "At k = 9 , F(x) = 1.570880551485397 , f(x) = -1.2597700660421651e-12\n",
      "At k = 10 , F(x) = 1.5708449744109119 , f(x) = -1.2601031329495527e-12\n",
      "At k = 11 , F(x) = 1.5708235900303926 , f(x) = -1.2601031329495527e-12\n",
      "At k = 12 , F(x) = 1.5708186438569043 , f(x) = -1.2604361998569402e-12\n",
      "At k = 13 , F(x) = 1.5708174091891154 , f(x) = -1.2607692667643278e-12\n",
      "At k = 14 , F(x) = 1.5708171007426093 , f(x) = -1.2612133559741778e-12\n",
      "At k = 15 , F(x) = 1.570817023658766 , f(x) = -1.2612133559741778e-12\n",
      "At k = 16 , F(x) = 1.570817004391732 , f(x) = -1.2607692667643278e-12\n",
      "At k = 17 , F(x) = 1.5708169995756194 , f(x) = -1.2601031329495527e-12\n",
      "At k = 18 , F(x) = 1.5708169983717164 , f(x) = -1.2607692667643278e-12\n",
      "Early stop at iteration  18\n",
      "The estimated Hofer-Zehnder capacity of the unit ball is  3.141633996743433\n"
     ]
    },
    {
     "data": {
      "text/plain": [
       "3.141633996743433"
      ]
     },
     "execution_count": 7,
     "metadata": {},
     "output_type": "execute_result"
    }
   ],
   "source": [
    "estimator.estimate()"
   ]
  },
  {
   "cell_type": "code",
   "execution_count": 4,
   "metadata": {},
   "outputs": [
    {
     "name": "stdout",
     "output_type": "stream",
     "text": [
      "The estimated Hofer-Zehnder capacity of the unit ball is  3.168944046764782\n"
     ]
    },
    {
     "data": {
      "text/plain": [
       "3.168944046764782"
      ]
     },
     "execution_count": 4,
     "metadata": {},
     "output_type": "execute_result"
    }
   ],
   "source": [
    "# an example using estimate with the optional arguments\n",
    "\n",
    "estimator.estimate(iterations = 4, epsilon = 10.**(-4),VOCAL = False)"
   ]
  },
  {
   "cell_type": "code",
   "execution_count": null,
   "metadata": {},
   "outputs": [],
   "source": []
  }
 ],
 "metadata": {
  "kernelspec": {
   "display_name": "Python 3",
   "language": "python",
   "name": "python3"
  },
  "language_info": {
   "codemirror_mode": {
    "name": "ipython",
    "version": 3
   },
   "file_extension": ".py",
   "mimetype": "text/x-python",
   "name": "python",
   "nbconvert_exporter": "python",
   "pygments_lexer": "ipython3",
   "version": "3.6.4"
  }
 },
 "nbformat": 4,
 "nbformat_minor": 2
}
