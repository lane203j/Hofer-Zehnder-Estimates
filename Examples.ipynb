{
 "cells": [
  {
   "cell_type": "code",
   "execution_count": 6,
   "metadata": {},
   "outputs": [],
   "source": [
    "from HZCapacityEstimator import *"
   ]
  },
  {
   "cell_type": "code",
   "execution_count": 2,
   "metadata": {},
   "outputs": [],
   "source": [
    "# estimate Hofer-Zehnder capacity of unit ball in R^8\n",
    "\n",
    "estimator = HZCapacityEstimator(n=4,m=1000)"
   ]
  },
  {
   "cell_type": "code",
   "execution_count": 3,
   "metadata": {},
   "outputs": [
    {
     "name": "stdout",
     "output_type": "stream",
     "text": [
      "At k = 1 , F(x) = 6463.67119214259 , f(x) = -7.772671395400721e-13\n",
      "At k = 2 , F(x) = 471.5531025435602 , f(x) = -3.132272219374954e-12\n",
      "At k = 3 , F(x) = 3.123389268277822 , f(x) = -7.713163441280813e-12\n",
      "At k = 4 , F(x) = 2.356623517994096 , f(x) = -1.7222001602590353e-11\n",
      "At k = 5 , F(x) = 1.6116909309611218 , f(x) = -1.9824697439219108e-11\n",
      "At k = 6 , F(x) = 1.59396170477233 , f(x) = -2.0360269026298283e-11\n",
      "At k = 7 , F(x) = 1.5719343015383447 , f(x) = -2.0487389562617864e-11\n",
      "At k = 8 , F(x) = 1.5710427743838804 , f(x) = -2.0484725027358763e-11\n",
      "At k = 9 , F(x) = 1.5708581632943328 , f(x) = -2.0484391960451376e-11\n",
      "At k = 10 , F(x) = 1.5708157630450315 , f(x) = -2.0484725027358763e-11\n",
      "At k = 11 , F(x) = 1.5708055555753315 , f(x) = -2.048416991584645e-11\n",
      "At k = 12 , F(x) = 1.570803046018426 , f(x) = -2.0484836049661226e-11\n",
      "At k = 13 , F(x) = 1.57080242325962 , f(x) = -2.0483947871241526e-11\n",
      "At k = 14 , F(x) = 1.5708015974523015 , f(x) = -2.0484836049661226e-11\n",
      "At k = 15 , F(x) = 1.5708015202087584 , f(x) = -2.0484947071963688e-11\n",
      "At k = 16 , F(x) = 1.5708015009211325 , f(x) = -2.0484947071963688e-11\n",
      "At k = 17 , F(x) = 1.5708014961018577 , f(x) = -2.048539116117354e-11\n",
      "Early stop at iteration  17\n",
      "The estimated Hofer-Zehnder capacity of the unit ball is  3.1416029922037154\n"
     ]
    }
   ],
   "source": [
    "estimator.estimate()"
   ]
  },
  {
   "cell_type": "code",
   "execution_count": 4,
   "metadata": {},
   "outputs": [
    {
     "name": "stdout",
     "output_type": "stream",
     "text": [
      "Early stop at iteration  4\n",
      "The estimated Hofer-Zehnder capacity of the unit ball is  3.2150938829383624\n"
     ]
    }
   ],
   "source": [
    "# an example using estimate with the optional arguments\n",
    "\n",
    "estimator.estimate(iterations = 4, epsilon = 10.**(-4),VOCAL = False)"
   ]
  },
  {
   "cell_type": "code",
   "execution_count": null,
   "metadata": {},
   "outputs": [],
   "source": []
  }
 ],
 "metadata": {
  "kernelspec": {
   "display_name": "Python 3",
   "language": "python",
   "name": "python3"
  },
  "language_info": {
   "codemirror_mode": {
    "name": "ipython",
    "version": 3
   },
   "file_extension": ".py",
   "mimetype": "text/x-python",
   "name": "python",
   "nbconvert_exporter": "python",
   "pygments_lexer": "ipython3",
   "version": "3.6.4"
  }
 },
 "nbformat": 4,
 "nbformat_minor": 2
}
